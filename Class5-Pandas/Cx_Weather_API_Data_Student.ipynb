{
 "cells": [
  {
   "cell_type": "code",
   "execution_count": 1,
   "metadata": {},
   "outputs": [],
   "source": [
    "# https://openweathermap.org\n",
    "# https://www.weather.gov/documentation/services-web-api  --- government data "
   ]
  },
  {
   "cell_type": "code",
   "execution_count": 4,
   "metadata": {},
   "outputs": [],
   "source": [
    "import requests\n",
    "import json"
   ]
  },
  {
   "cell_type": "code",
   "execution_count": 17,
   "metadata": {},
   "outputs": [],
   "source": [
    "api_address = 'api.openweathermap.org/data/2.5/weather?APPID=8adb8571419537f48d8da720a7ffba5f&q='"
   ]
  },
  {
   "cell_type": "code",
   "execution_count": 18,
   "metadata": {},
   "outputs": [],
   "source": [
    "city = \"Sunnyvale\""
   ]
  },
  {
   "cell_type": "code",
   "execution_count": 19,
   "metadata": {},
   "outputs": [
    {
     "name": "stdout",
     "output_type": "stream",
     "text": [
      "http://api.openweathermap.org/data/2.5/weather?APPID=8adb8571419537f48d8da720a7ffba5f&q=Sunnyvale\n"
     ]
    }
   ],
   "source": [
    "url = 'http://' + api_address + city\n",
    "print(url)"
   ]
  },
  {
   "cell_type": "code",
   "execution_count": 20,
   "metadata": {},
   "outputs": [],
   "source": [
    "json_data = requests.get(url).json()"
   ]
  },
  {
   "cell_type": "code",
   "execution_count": 21,
   "metadata": {},
   "outputs": [
    {
     "name": "stdout",
     "output_type": "stream",
     "text": [
      "{\n",
      "    \"base\": \"stations\",\n",
      "    \"clouds\": {\n",
      "        \"all\": 75\n",
      "    },\n",
      "    \"cod\": 200,\n",
      "    \"coord\": {\n",
      "        \"lat\": 37.37,\n",
      "        \"lon\": -122.04\n",
      "    },\n",
      "    \"dt\": 1576355414,\n",
      "    \"id\": 5400075,\n",
      "    \"main\": {\n",
      "        \"feels_like\": 281.21,\n",
      "        \"humidity\": 66,\n",
      "        \"pressure\": 1019,\n",
      "        \"temp\": 286.56,\n",
      "        \"temp_max\": 288.71,\n",
      "        \"temp_min\": 284.26\n",
      "    },\n",
      "    \"name\": \"Sunnyvale\",\n",
      "    \"sys\": {\n",
      "        \"country\": \"US\",\n",
      "        \"id\": 5845,\n",
      "        \"sunrise\": 1576336474,\n",
      "        \"sunset\": 1576371072,\n",
      "        \"type\": 1\n",
      "    },\n",
      "    \"timezone\": -28800,\n",
      "    \"visibility\": 16093,\n",
      "    \"weather\": [\n",
      "        {\n",
      "            \"description\": \"broken clouds\",\n",
      "            \"icon\": \"04d\",\n",
      "            \"id\": 803,\n",
      "            \"main\": \"Clouds\"\n",
      "        }\n",
      "    ],\n",
      "    \"wind\": {\n",
      "        \"deg\": 310,\n",
      "        \"speed\": 6.7\n",
      "    }\n",
      "}\n"
     ]
    }
   ],
   "source": [
    "print(json.dumps(json_data, indent=4, sort_keys=True))"
   ]
  },
  {
   "cell_type": "code",
   "execution_count": null,
   "metadata": {},
   "outputs": [],
   "source": [
    "formatted_data = json_data['main']\n",
    "print(formatted_data)"
   ]
  },
  {
   "cell_type": "code",
   "execution_count": null,
   "metadata": {},
   "outputs": [],
   "source": [
    "temp = formatted_data['temp']\n",
    "temp_min = formatted_data['temp_min']\n",
    "temp_max = formatted_data['temp_max']"
   ]
  },
  {
   "cell_type": "code",
   "execution_count": null,
   "metadata": {},
   "outputs": [],
   "source": [
    "print(temp,temp_min,temp_max)"
   ]
  },
  {
   "cell_type": "code",
   "execution_count": null,
   "metadata": {},
   "outputs": [],
   "source": [
    "def convert_kelvin_to_fahrenheit(myTemp):\n",
    "    kelvin = myTemp\n",
    "    fahrenheit = 9/5 * (kelvin - 273) + 32\n",
    "    int_round_fahrenheit = int(round(fahrenheit,0))\n",
    "    return int_round_fahrenheit"
   ]
  },
  {
   "cell_type": "code",
   "execution_count": null,
   "metadata": {},
   "outputs": [],
   "source": [
    "print(\"Now:\",convert_kelvin_to_fahrenheit(temp))\n",
    "print(\"Min:\",convert_kelvin_to_fahrenheit(temp_min))\n",
    "print(\"Max:\",convert_kelvin_to_fahrenheit(temp_max))"
   ]
  },
  {
   "cell_type": "code",
   "execution_count": null,
   "metadata": {},
   "outputs": [],
   "source": [
    "# Get forecast data"
   ]
  },
  {
   "cell_type": "code",
   "execution_count": null,
   "metadata": {},
   "outputs": [],
   "source": [
    "api_address = 'api.openweathermap.org/data/2.5/forecast?APPID=Your_API_Key&q='\n",
    "city = \"Sunnyvale\"\n",
    "url = 'http://' + api_address + city\n",
    "print(url)"
   ]
  },
  {
   "cell_type": "code",
   "execution_count": null,
   "metadata": {},
   "outputs": [],
   "source": [
    "json_data = requests.get(url).json()"
   ]
  },
  {
   "cell_type": "code",
   "execution_count": null,
   "metadata": {},
   "outputs": [],
   "source": [
    "print(json_data)"
   ]
  },
  {
   "cell_type": "code",
   "execution_count": null,
   "metadata": {},
   "outputs": [],
   "source": []
  }
 ],
 "metadata": {
  "kernelspec": {
   "display_name": "Python 3",
   "language": "python",
   "name": "python3"
  },
  "language_info": {
   "codemirror_mode": {
    "name": "ipython",
    "version": 3
   },
   "file_extension": ".py",
   "mimetype": "text/x-python",
   "name": "python",
   "nbconvert_exporter": "python",
   "pygments_lexer": "ipython3",
   "version": "3.7.4"
  }
 },
 "nbformat": 4,
 "nbformat_minor": 2
}
