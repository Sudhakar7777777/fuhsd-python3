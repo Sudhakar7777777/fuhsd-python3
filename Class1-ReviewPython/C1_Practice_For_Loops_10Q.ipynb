{
 "cells": [
  {
   "cell_type": "markdown",
   "metadata": {},
   "source": [
    "# Python practice problems with for loops, dict, input"
   ]
  },
  {
   "cell_type": "code",
   "execution_count": 1,
   "metadata": {},
   "outputs": [],
   "source": [
    "# Review Python \"input\" # this should help with assignments below"
   ]
  },
  {
   "cell_type": "code",
   "execution_count": 2,
   "metadata": {},
   "outputs": [
    {
     "name": "stdout",
     "output_type": "stream",
     "text": [
      "Which year will be next summer Olympics? 2020\n"
     ]
    }
   ],
   "source": [
    "Olympic_year = input(\"Which year will be next summer Olympics? \")"
   ]
  },
  {
   "cell_type": "code",
   "execution_count": 3,
   "metadata": {},
   "outputs": [
    {
     "name": "stdout",
     "output_type": "stream",
     "text": [
      "<class 'str'>\n"
     ]
    }
   ],
   "source": [
    "print(type(Olympic_year)) # it is string"
   ]
  },
  {
   "cell_type": "code",
   "execution_count": 4,
   "metadata": {},
   "outputs": [
    {
     "name": "stdout",
     "output_type": "stream",
     "text": [
      "<class 'int'>\n"
     ]
    }
   ],
   "source": [
    "print(type(int(Olympic_year))) # it is integer"
   ]
  },
  {
   "cell_type": "markdown",
   "metadata": {},
   "source": [
    "1) Write a for loop to print \"Hello\" 10 times."
   ]
  },
  {
   "cell_type": "code",
   "execution_count": 9,
   "metadata": {},
   "outputs": [
    {
     "name": "stdout",
     "output_type": "stream",
     "text": [
      "HelloHelloHelloHelloHelloHelloHelloHelloHelloHello\n",
      "Hello\n",
      "Hello\n",
      "Hello\n",
      "Hello\n",
      "Hello\n",
      "Hello\n",
      "Hello\n",
      "Hello\n",
      "Hello\n",
      "Hello\n"
     ]
    }
   ],
   "source": [
    "# Write code here ...\n",
    "print(\"Hello\" * 10)\n",
    "\n",
    "for i in range(10):\n",
    "    print(\"Hello\")"
   ]
  },
  {
   "cell_type": "markdown",
   "metadata": {},
   "source": [
    "2) Write a for loop to print even numbers in the range 1 .. 20"
   ]
  },
  {
   "cell_type": "code",
   "execution_count": 13,
   "metadata": {},
   "outputs": [
    {
     "name": "stdout",
     "output_type": "stream",
     "text": [
      "2\n",
      "4\n",
      "6\n",
      "8\n",
      "10\n",
      "12\n",
      "14\n",
      "16\n",
      "18\n"
     ]
    }
   ],
   "source": [
    "# Write code here ...\n",
    "for i in range(2,20,2):\n",
    "    print(i)"
   ]
  },
  {
   "cell_type": "code",
   "execution_count": null,
   "metadata": {},
   "outputs": [],
   "source": [
    "\"\"\"\n",
    "3) Define a list of animals to be as follows:\n",
    "animals = [\"lion\",\"tiger\",\"elephant\",\"giraffe\",\"zebra\"]\n",
    "\n",
    "Now print animal names using for loop. The output should be as follows:\n",
    "1 lion\n",
    "2 tiger\n",
    "3 elephant\n",
    "4 giraffe\n",
    "5 zebra\n",
    "\"\"\""
   ]
  },
  {
   "cell_type": "code",
   "execution_count": 19,
   "metadata": {},
   "outputs": [
    {
     "name": "stdout",
     "output_type": "stream",
     "text": [
      "1 lion\n",
      "2 tiger\n",
      "3 elephant\n",
      "4 giraffe\n",
      "5 zebra\n"
     ]
    }
   ],
   "source": [
    "# Write code here ...\n",
    "animals = [\"lion\",\"tiger\",\"elephant\",\"giraffe\",\"zebra\"]\n",
    "\n",
    "for i in range(0,len(animals)):\n",
    "    print(\"{} {}\".format(i+1, animals[i]))\n",
    "    i+=1"
   ]
  },
  {
   "cell_type": "code",
   "execution_count": null,
   "metadata": {},
   "outputs": [],
   "source": [
    "\"\"\"\n",
    "4) Visiting moon every year for next 10 years\n",
    "The weight on moon can be estimated to be 18%  of weight on earth.\n",
    "Write a program which will ask the user to enter current earth weight.\n",
    "Then calculate weight on moon. Assume our weight increases by 2 pounds every year on earth.\n",
    "\n",
    "Use for loop to print weight on moon each year when you visit.\n",
    "\"\"\""
   ]
  },
  {
   "cell_type": "code",
   "execution_count": null,
   "metadata": {},
   "outputs": [],
   "source": [
    "# Write code here ...\n"
   ]
  },
  {
   "cell_type": "markdown",
   "metadata": {},
   "source": [
    "5) Write a for loop to find the sum of all numbers from 1 to 100; 1 + 2 + ... + 99 + 100"
   ]
  },
  {
   "cell_type": "code",
   "execution_count": 20,
   "metadata": {},
   "outputs": [
    {
     "name": "stdout",
     "output_type": "stream",
     "text": [
      "5050\n"
     ]
    }
   ],
   "source": [
    "# Write code here ...\n",
    "sum = 0\n",
    "for i in range(1, 101):\n",
    "    sum += i\n",
    "print(sum)"
   ]
  },
  {
   "cell_type": "markdown",
   "metadata": {},
   "source": [
    "6) Write a for loop which will ask the user to input 4 numbers. The program should calculate sum of 4 numbers and print the sum."
   ]
  },
  {
   "cell_type": "code",
   "execution_count": null,
   "metadata": {},
   "outputs": [],
   "source": [
    "# Write code here ...\n"
   ]
  },
  {
   "cell_type": "markdown",
   "metadata": {},
   "source": [
    "7) Write a Python for loop to find product of even number from 1 to 50;\n",
    "2 x 4 x 6 x 8 x ... x 42 x 44 x 46 x 50"
   ]
  },
  {
   "cell_type": "code",
   "execution_count": null,
   "metadata": {},
   "outputs": [],
   "source": [
    "# Write code here ...\n"
   ]
  },
  {
   "cell_type": "markdown",
   "metadata": {},
   "source": [
    "8a) Find the index of minimum and maximum number in MyList.  (Index of the first occurence)"
   ]
  },
  {
   "cell_type": "code",
   "execution_count": null,
   "metadata": {},
   "outputs": [],
   "source": [
    "myList = [46, 84, 43, 75, 94, 7, 17, 76, 44, 17, 81, 21, 70, 56, 98, 88, 59, 58, 62, 77, \n",
    "          56, 19, 83, 82, 2, 38, 8, 57, 80, 54, 71, 74, 77, 18, 66, 25, 60, 29, 30, 11, \n",
    "          45, 60, 92, 44, 71, 49, 22, 74, 30, 58, 73, 60, 14, 97, 13, 78, 42, 17, 98, 14, \n",
    "          19, 79, 54, 56, 84, 81, 49, 18, 95, 36, 84, 77, 44, 69, 48, 94, 66, 13, 96, 7, \n",
    "          9, 47, 4, 37, 71, 51, 9, 28, 92, 38, 75, 66, 2, 34, 88, 4, 43, 75, 57, 83,\n",
    "          63, 17, 25, 98, 71, 95, 1, 86, 97, 90, 6, 96, 11, 49, 16, 91, 50, 66, 54, 94,\n",
    "          75, 69, 97, 23, 50, 13, 75, 15, 77, 17, 57, 59, 47, 44, 95, 28, 16, 72, 69, 7,\n",
    "          14, 76, 10, 21, 56, 89, 51, 78, 25, 7, 8, 17, 53, 86, 58, 35, 46, 16, 74, 21, 9,\n",
    "          4, 91, 59, 84, 50, 86, 60, 63, 99, 92, 64, 55, 40, 93, 39, 48, 96, 49, 98, 36,\n",
    "          72, 82, 45, 62, 58, 77, 17, 42, 49, 38, 21, 84, 61, 77, 1, 37, 31, 50, 52, 58]"
   ]
  },
  {
   "cell_type": "code",
   "execution_count": null,
   "metadata": {},
   "outputs": [],
   "source": [
    "# Write code here ..."
   ]
  },
  {
   "cell_type": "markdown",
   "metadata": {},
   "source": [
    "8b) In myList, find top-5 highest frequency numbers. List the numbers and number of occurences."
   ]
  },
  {
   "cell_type": "code",
   "execution_count": null,
   "metadata": {},
   "outputs": [],
   "source": [
    "# write code here ..."
   ]
  },
  {
   "cell_type": "markdown",
   "metadata": {},
   "source": [
    "9) Write a Python program to convert temperature from Centigrade to Fahrenheit\n",
    "and Fahrenheit to Centigrade. At the start, the program should ask which way we are converting.\n",
    "\n",
    "Then ask the user to input the temperature. Your program should do the conversion\n",
    "and print the results.\n",
    "\n",
    "(C x 9/5) + 32 = F"
   ]
  },
  {
   "cell_type": "code",
   "execution_count": null,
   "metadata": {},
   "outputs": [],
   "source": [
    "# Write code here "
   ]
  },
  {
   "cell_type": "code",
   "execution_count": null,
   "metadata": {},
   "outputs": [],
   "source": [
    "\"\"\"\n",
    "10) Print the times table:\n",
    "1x1=1 1x2=2 1x3=3 1x4=4 1x5=5\n",
    "2x1=2 2x2=4 2x3=6 2x4=8 2x5=10\n",
    "3x1=3 3x2=6 3x3=9 3x4=12 3x5=15\n",
    "4x1=4 4x2=8 4x3=12 4x4=16 4x5=20\n",
    "5x1=5 5x2=10 5x3=15 5x4=20 5x5=25\n",
    "\n",
    "Use for loop nested with for loop to print the above multiplication table\n",
    "\"\"\""
   ]
  },
  {
   "cell_type": "code",
   "execution_count": null,
   "metadata": {},
   "outputs": [],
   "source": [
    "# write code here "
   ]
  },
  {
   "cell_type": "code",
   "execution_count": null,
   "metadata": {},
   "outputs": [],
   "source": []
  }
 ],
 "metadata": {
  "kernelspec": {
   "display_name": "Python 3",
   "language": "python",
   "name": "python3"
  },
  "language_info": {
   "codemirror_mode": {
    "name": "ipython",
    "version": 3
   },
   "file_extension": ".py",
   "mimetype": "text/x-python",
   "name": "python",
   "nbconvert_exporter": "python",
   "pygments_lexer": "ipython3",
   "version": "3.7.3"
  }
 },
 "nbformat": 4,
 "nbformat_minor": 2
}
