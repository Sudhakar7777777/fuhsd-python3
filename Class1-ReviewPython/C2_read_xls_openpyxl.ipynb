{
 "cells": [
  {
   "cell_type": "markdown",
   "metadata": {},
   "source": [
    "# Class 2 -- Reading dataset from xlsx using openpyxl"
   ]
  },
  {
   "cell_type": "code",
   "execution_count": 10,
   "metadata": {},
   "outputs": [],
   "source": [
    "# Documentation and help\n",
    "# https://openpyxl.readthedocs.io/en/stable/ \n",
    "# https://openpyxl.readthedocs.io/en/stable/usage.html\n",
    "# https://openpyxl.readthedocs.io/en/stable/tutorial.html"
   ]
  },
  {
   "cell_type": "code",
   "execution_count": 11,
   "metadata": {},
   "outputs": [],
   "source": [
    "from openpyxl import load_workbook"
   ]
  },
  {
   "cell_type": "code",
   "execution_count": 12,
   "metadata": {},
   "outputs": [
    {
     "name": "stdout",
     "output_type": "stream",
     "text": [
      "Sheets: ['States', 'Countries', 'Income']\n",
      "Rows 53\n",
      "Columns 5\n"
     ]
    }
   ],
   "source": [
    "wb = load_workbook(filename=\"xls_for_python.xlsx\", read_only=True)\n",
    "print(\"Sheets:\",wb.sheetnames)\n",
    "ws = wb[\"States\"]\n",
    "row_count = ws.max_row        \n",
    "column_count = ws.max_column\n",
    "print('Rows',row_count)\n",
    "print(\"Columns\",column_count)"
   ]
  },
  {
   "cell_type": "code",
   "execution_count": 13,
   "metadata": {},
   "outputs": [
    {
     "name": "stdout",
     "output_type": "stream",
     "text": [
      "['S', 'a', 'n', 'j', 'a', 'y']\n"
     ]
    }
   ],
   "source": [
    "mystr = \"Sanjay\"\n",
    "ss = list(mystr)\n",
    "print(ss)"
   ]
  },
  {
   "cell_type": "code",
   "execution_count": 14,
   "metadata": {},
   "outputs": [
    {
     "name": "stdout",
     "output_type": "stream",
     "text": [
      "California\n",
      "Colorado\n",
      "Connecticut\n"
     ]
    }
   ],
   "source": [
    "for row in ws.rows:\n",
    "    row_values = [cell.value for cell in row]\n",
    "    # print(row_values[1])\n",
    "    state_name = list(str(row_values[0]))\n",
    "    if (state_name[0] == \"C\"):\n",
    "        print(row_values[0])"
   ]
  },
  {
   "cell_type": "code",
   "execution_count": null,
   "metadata": {},
   "outputs": [],
   "source": []
  },
  {
   "cell_type": "markdown",
   "metadata": {},
   "source": [
    "# Ex1: Modify the above code to list states starting with \"N\""
   ]
  },
  {
   "cell_type": "code",
   "execution_count": 6,
   "metadata": {},
   "outputs": [],
   "source": [
    "# Your code here"
   ]
  },
  {
   "cell_type": "markdown",
   "metadata": {},
   "source": [
    "# Ex2: List only the states with the highest and lowest geographic area"
   ]
  },
  {
   "cell_type": "code",
   "execution_count": 7,
   "metadata": {},
   "outputs": [],
   "source": [
    "# Your code here"
   ]
  },
  {
   "cell_type": "markdown",
   "metadata": {},
   "source": [
    "# Ex3: Find all countries starting with letter \"C\""
   ]
  },
  {
   "cell_type": "code",
   "execution_count": 8,
   "metadata": {},
   "outputs": [],
   "source": [
    "# Your code here"
   ]
  },
  {
   "cell_type": "markdown",
   "metadata": {},
   "source": [
    "# Ex4: Find the average of all state median incomes"
   ]
  },
  {
   "cell_type": "code",
   "execution_count": 9,
   "metadata": {},
   "outputs": [],
   "source": [
    "# Your code here"
   ]
  },
  {
   "cell_type": "markdown",
   "metadata": {},
   "source": [
    "# Ex5: Find the median of all state median incomes"
   ]
  },
  {
   "cell_type": "code",
   "execution_count": null,
   "metadata": {},
   "outputs": [],
   "source": []
  },
  {
   "cell_type": "code",
   "execution_count": null,
   "metadata": {},
   "outputs": [],
   "source": []
  }
 ],
 "metadata": {
  "kernelspec": {
   "display_name": "Python 3",
   "language": "python",
   "name": "python3"
  },
  "language_info": {
   "codemirror_mode": {
    "name": "ipython",
    "version": 3
   },
   "file_extension": ".py",
   "mimetype": "text/x-python",
   "name": "python",
   "nbconvert_exporter": "python",
   "pygments_lexer": "ipython3",
   "version": "3.7.1"
  }
 },
 "nbformat": 4,
 "nbformat_minor": 2
}
